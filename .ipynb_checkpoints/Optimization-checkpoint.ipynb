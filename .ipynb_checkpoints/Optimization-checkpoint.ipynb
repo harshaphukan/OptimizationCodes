{
 "cells": [
  {
   "cell_type": "code",
   "execution_count": 2,
   "metadata": {
    "collapsed": true
   },
   "outputs": [],
   "source": [
    "import numpy as np\n",
    "import os\n",
    "import numpy.linalg as La\n",
    "def f(x1,x2):\n",
    "    return x1**2+x2**2-2*x1\n",
    "\n",
    "def gradf(x1,x2):\n",
    "    grad=np.array([[2*x1-2],[2*x2]])\n",
    "    return grad\n",
    "\n"
   ]
  },
  {
   "cell_type": "code",
   "execution_count": 8,
   "metadata": {},
   "outputs": [],
   "source": [
    "#%%writefile Bisection.py\n",
    "import numpy as np\n",
    "import os\n",
    "import numpy.linalg as La\\\n",
    "\n",
    "def f(T):\n",
    "    return (204165.5/(330-2*T))+(10400/(T-20))\n",
    "\n",
    "def fprime(T):\n",
    "    return (204165.5/(330-2*T)**2)*2-(10400/(T-20)**2)\n",
    "\n",
    "\n",
    "def Bisection(a,b,eps,delx):\n",
    "    count=0\n",
    "    Error=9000\n",
    "    while Error>eps:\n",
    "        alpha=0.5*(a+b)\n",
    "        fpa=fprime(a)\n",
    "        fpalpha=fprime(alpha)\n",
    "        if fpa*fpalpha<0:\n",
    "            b=alpha\n",
    "        else:\n",
    "            a=alpha\n",
    "    \n",
    "        Error=np.abs(a-b)\n",
    "        count+=1\n",
    "    xOpt=a\n",
    "    fOpt=f(a)\n",
    "    return xOpt,fOpt,count\n",
    "\n",
    "    \n",
    "xOpt,fOpt,count=Bisection(40,90,1e-5,1e-2)   "
   ]
  },
  {
   "cell_type": "code",
   "execution_count": null,
   "metadata": {
    "collapsed": true
   },
   "outputs": [],
   "source": []
  }
 ],
 "metadata": {
  "kernelspec": {
   "display_name": "Python 2",
   "language": "python",
   "name": "python2"
  },
  "language_info": {
   "codemirror_mode": {
    "name": "ipython",
    "version": 2
   },
   "file_extension": ".py",
   "mimetype": "text/x-python",
   "name": "python",
   "nbconvert_exporter": "python",
   "pygments_lexer": "ipython2",
   "version": "2.7.13"
  }
 },
 "nbformat": 4,
 "nbformat_minor": 2
}
